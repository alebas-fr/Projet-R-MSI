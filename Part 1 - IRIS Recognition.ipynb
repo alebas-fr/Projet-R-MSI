{
 "cells": [
  {
   "cell_type": "markdown",
   "id": "c33b905f",
   "metadata": {},
   "source": [
    "Alexandre Lebas - Océane Deletrez\n",
    "\n",
    "# Part 1 : Iris recognition\n",
    "\n",
    "# Q1 : Considering the 5-fold cross validation, what is the size of the test sample and the training sample?\n"
   ]
  },
  {
   "cell_type": "code",
   "execution_count": 1,
   "id": "5fa9252f",
   "metadata": {},
   "outputs": [],
   "source": [
    "# Charger les données\n",
    "data = iris\n",
    "ind = sample(2,nrow(data),replace = TRUE, prob = c(0.75,0.25))\n",
    "train.data = iris[ind == 1,]\n",
    "test.data = iris[ind ==2,]"
   ]
  },
  {
   "cell_type": "code",
   "execution_count": 2,
   "id": "40cf054d",
   "metadata": {},
   "outputs": [
    {
     "name": "stderr",
     "output_type": "stream",
     "text": [
      "Installation du package dans 'C:/Users/alex5/OneDrive/Documents/R/win-library/4.1'\n",
      "(car 'lib' n'est pas spécifié)\n",
      "\n"
     ]
    },
    {
     "name": "stdout",
     "output_type": "stream",
     "text": [
      "package 'party' successfully unpacked and MD5 sums checked\n",
      "\n",
      "The downloaded binary packages are in\n",
      "\tC:\\Users\\alex5\\AppData\\Local\\Temp\\RtmpwNxFRm\\downloaded_packages\n"
     ]
    }
   ],
   "source": [
    "install.packages(\"party\")"
   ]
  },
  {
   "cell_type": "code",
   "execution_count": 3,
   "id": "8ed79c96",
   "metadata": {},
   "outputs": [
    {
     "name": "stderr",
     "output_type": "stream",
     "text": [
      "Le chargement a nécessité le package : grid\n",
      "\n",
      "Le chargement a nécessité le package : mvtnorm\n",
      "\n",
      "Le chargement a nécessité le package : modeltools\n",
      "\n",
      "Le chargement a nécessité le package : stats4\n",
      "\n",
      "Le chargement a nécessité le package : strucchange\n",
      "\n",
      "Le chargement a nécessité le package : zoo\n",
      "\n",
      "\n",
      "Attachement du package : 'zoo'\n",
      "\n",
      "\n",
      "Les objets suivants sont masqués depuis 'package:base':\n",
      "\n",
      "    as.Date, as.Date.numeric\n",
      "\n",
      "\n",
      "Le chargement a nécessité le package : sandwich\n",
      "\n"
     ]
    }
   ],
   "source": [
    "library(party)"
   ]
  },
  {
   "cell_type": "code",
   "execution_count": 4,
   "id": "4952bd21",
   "metadata": {},
   "outputs": [
    {
     "name": "stderr",
     "output_type": "stream",
     "text": [
      "Installation du package dans 'C:/Users/alex5/OneDrive/Documents/R/win-library/4.1'\n",
      "(car 'lib' n'est pas spécifié)\n",
      "\n"
     ]
    },
    {
     "name": "stdout",
     "output_type": "stream",
     "text": [
      "package 'tidyverse' successfully unpacked and MD5 sums checked\n",
      "\n",
      "The downloaded binary packages are in\n",
      "\tC:\\Users\\alex5\\AppData\\Local\\Temp\\RtmpwNxFRm\\downloaded_packages\n"
     ]
    },
    {
     "name": "stderr",
     "output_type": "stream",
     "text": [
      "Installation du package dans 'C:/Users/alex5/OneDrive/Documents/R/win-library/4.1'\n",
      "(car 'lib' n'est pas spécifié)\n",
      "\n"
     ]
    },
    {
     "name": "stdout",
     "output_type": "stream",
     "text": [
      "package 'caret' successfully unpacked and MD5 sums checked\n",
      "\n",
      "The downloaded binary packages are in\n",
      "\tC:\\Users\\alex5\\AppData\\Local\\Temp\\RtmpwNxFRm\\downloaded_packages\n"
     ]
    },
    {
     "name": "stderr",
     "output_type": "stream",
     "text": [
      "Installation du package dans 'C:/Users/alex5/OneDrive/Documents/R/win-library/4.1'\n",
      "(car 'lib' n'est pas spécifié)\n",
      "\n"
     ]
    },
    {
     "name": "stdout",
     "output_type": "stream",
     "text": [
      "\n",
      "  Une version binaire est disponible mais la version du source est plus\n",
      "  récente:\n",
      "      binary source needs_compilation\n",
      "e1071  1.7-8  1.7-9              TRUE\n",
      "\n",
      "  Binaries will be installed\n",
      "package 'e1071' successfully unpacked and MD5 sums checked\n",
      "\n",
      "The downloaded binary packages are in\n",
      "\tC:\\Users\\alex5\\AppData\\Local\\Temp\\RtmpwNxFRm\\downloaded_packages\n"
     ]
    }
   ],
   "source": [
    "install.packages(\"tidyverse\")\n",
    "install.packages(\"caret\")\n",
    "install.packages(\"e1071\")"
   ]
  },
  {
   "cell_type": "code",
   "execution_count": 5,
   "id": "363cfc0a",
   "metadata": {},
   "outputs": [
    {
     "name": "stderr",
     "output_type": "stream",
     "text": [
      "Le chargement a nécessité le package : lattice\n",
      "\n",
      "Le chargement a nécessité le package : ggplot2\n",
      "\n"
     ]
    }
   ],
   "source": [
    "library(caret)\n"
   ]
  },
  {
   "cell_type": "code",
   "execution_count": 6,
   "id": "dfe3f57f",
   "metadata": {},
   "outputs": [],
   "source": [
    "# Paramétrer le 5-fold avec la librairie caret\n",
    "train_control = trainControl(method = \"cv\",number = 5)"
   ]
  },
  {
   "cell_type": "code",
   "execution_count": 7,
   "id": "b606704b",
   "metadata": {},
   "outputs": [],
   "source": [
    "# Entrainer le modèle avec les données, la méthode et mettre le 5-fold en place avec trControl\n",
    "myFormula = Species ~ Sepal.Length + Sepal.Width + Petal.Length +Petal.Width\n",
    "model = train(myFormula,data = train.data,method = \"ctree\",trControl = train_control)"
   ]
  },
  {
   "cell_type": "code",
   "execution_count": 8,
   "id": "8b8cd229",
   "metadata": {},
   "outputs": [
    {
     "name": "stdout",
     "output_type": "stream",
     "text": [
      "Conditional Inference Tree \n",
      "\n",
      "113 samples\n",
      "  4 predictor\n",
      "  3 classes: 'setosa', 'versicolor', 'virginica' \n",
      "\n",
      "No pre-processing\n",
      "Resampling: Cross-Validated (5 fold) \n",
      "Summary of sample sizes: 90, 90, 91, 91, 90 \n",
      "Resampling results across tuning parameters:\n",
      "\n",
      "  mincriterion  Accuracy   Kappa    \n",
      "  0.01          0.9375494  0.9061725\n",
      "  0.50          0.9375494  0.9061725\n",
      "  0.99          0.9375494  0.9061725\n",
      "\n",
      "Accuracy was used to select the optimal model using the largest value.\n",
      "The final value used for the model was mincriterion = 0.99.\n"
     ]
    }
   ],
   "source": [
    "print(model)"
   ]
  },
  {
   "cell_type": "markdown",
   "id": "d6591d09",
   "metadata": {},
   "source": [
    "# Q2 : Install the \"party\" and \"Mlmetrics\" packages. What are they\n",
    "Party est un package pour la réalisation d'arbre de décision, et MLmetrics est un package pour le calcul de métrique d'évaluation"
   ]
  },
  {
   "cell_type": "code",
   "execution_count": 9,
   "id": "4dc9eedc",
   "metadata": {},
   "outputs": [
    {
     "name": "stderr",
     "output_type": "stream",
     "text": [
      "Installation du package dans 'C:/Users/alex5/OneDrive/Documents/R/win-library/4.1'\n",
      "(car 'lib' n'est pas spécifié)\n",
      "\n"
     ]
    },
    {
     "name": "stdout",
     "output_type": "stream",
     "text": [
      "package 'MLmetrics' successfully unpacked and MD5 sums checked\n",
      "\n",
      "The downloaded binary packages are in\n",
      "\tC:\\Users\\alex5\\AppData\\Local\\Temp\\RtmpwNxFRm\\downloaded_packages\n"
     ]
    }
   ],
   "source": [
    "# Party est déjà installé\n",
    "install.packages(\"MLmetrics\")"
   ]
  },
  {
   "cell_type": "code",
   "execution_count": 10,
   "id": "b6cfeebc",
   "metadata": {},
   "outputs": [
    {
     "name": "stderr",
     "output_type": "stream",
     "text": [
      "\n",
      "Attachement du package : 'MLmetrics'\n",
      "\n",
      "\n",
      "Les objets suivants sont masqués depuis 'package:caret':\n",
      "\n",
      "    MAE, RMSE\n",
      "\n",
      "\n",
      "L'objet suivant est masqué depuis 'package:base':\n",
      "\n",
      "    Recall\n",
      "\n",
      "\n"
     ]
    }
   ],
   "source": [
    "library(MLmetrics)"
   ]
  },
  {
   "cell_type": "markdown",
   "id": "dcce1382",
   "metadata": {},
   "source": [
    "# Q3 : Realize the function \"scoring\" of parameter N. N corresponds to N-Fold."
   ]
  },
  {
   "cell_type": "code",
   "execution_count": 11,
   "id": "e56d3b4e",
   "metadata": {},
   "outputs": [
    {
     "data": {
      "text/plain": [
       "\n",
       "\t Conditional inference tree with 4 terminal nodes\n",
       "\n",
       "Response:  .outcome \n",
       "Inputs:  Sepal.Length, Sepal.Width, Petal.Length, Petal.Width \n",
       "Number of observations:  113 \n",
       "\n",
       "1) Petal.Length <= 1.9; criterion = 1, statistic = 105.325\n",
       "  2)*  weights = 35 \n",
       "1) Petal.Length > 1.9\n",
       "  3) Petal.Width <= 1.7; criterion = 1, statistic = 53.28\n",
       "    4) Petal.Length <= 4.7; criterion = 0.999, statistic = 14.651\n",
       "      5)*  weights = 31 \n",
       "    4) Petal.Length > 4.7\n",
       "      6)*  weights = 7 \n",
       "  3) Petal.Width > 1.7\n",
       "    7)*  weights = 40 "
      ]
     },
     "metadata": {},
     "output_type": "display_data"
    }
   ],
   "source": [
    "# Récupérer l'arbre final du modèle entrainé avec le 5-fold\n",
    "Arbre = model$finalModel\n",
    "Arbre"
   ]
  },
  {
   "cell_type": "code",
   "execution_count": 12,
   "id": "dbf302b5",
   "metadata": {},
   "outputs": [
    {
     "data": {
      "image/png": "[encoded data removed]",
      "text/plain": [
       "plot without title"
      ]
     },
     "metadata": {
      "image/png": {
       "height": 420,
       "width": 420
      }
     },
     "output_type": "display_data"
    }
   ],
   "source": [
    "plot(Arbre)"
   ]
  },
  {
   "cell_type": "code",
   "execution_count": 13,
   "id": "fdee4c65",
   "metadata": {},
   "outputs": [
    {
     "data": {
      "text/plain": [
       "            \n",
       "predictTest  setosa versicolor virginica\n",
       "  setosa         15          0         0\n",
       "  versicolor      0         13         1\n",
       "  virginica       0          2         6"
      ]
     },
     "metadata": {},
     "output_type": "display_data"
    }
   ],
   "source": [
    "# Prédire les espèces du jeu de test et les comparé aux vraies valeurs\n",
    "predictTest = predict(Arbre,newdata = test.data)\n",
    "table(predictTest,test.data$Species)"
   ]
  },
  {
   "cell_type": "code",
   "execution_count": 14,
   "id": "f9ebad0c",
   "metadata": {},
   "outputs": [
    {
     "data": {
      "text/plain": [
       "            \n",
       "predictTrain setosa versicolor virginica\n",
       "  setosa         35          0         0\n",
       "  versicolor      0         31         0\n",
       "  virginica       0          4        43"
      ]
     },
     "metadata": {},
     "output_type": "display_data"
    }
   ],
   "source": [
    "# Prédire les espèces du jeu d'entrainement et les comparé aux vraies valeurs\n",
    "predictTrain = predict(Arbre,newdata = train.data)\n",
    "table(predictTrain,train.data$Species)"
   ]
  },
  {
   "cell_type": "code",
   "execution_count": 15,
   "id": "09b93423",
   "metadata": {},
   "outputs": [
    {
     "data": {
      "text/html": [
       "<style>\n",
       ".list-inline {list-style: none; margin:0; padding: 0}\n",
       ".list-inline>li {display: inline-block}\n",
       ".list-inline>li:not(:last-child)::after {content: \"\\00b7\"; padding: 0 .5ex}\n",
       "</style>\n",
       "<ol class=list-inline><li>1</li><li>1</li><li>1</li><li>1</li><li>1</li><li>1</li><li>1</li><li>1</li><li>1</li><li>1</li><li>1</li><li>1</li><li>1</li><li>1</li><li>1</li><li>3</li><li>2</li><li>2</li><li>2</li><li>2</li><li>2</li><li>2</li><li>2</li><li>3</li><li>2</li><li>2</li><li>2</li><li>2</li><li>2</li><li>2</li><li>3</li><li>2</li><li>3</li><li>3</li><li>3</li><li>3</li><li>3</li></ol>\n"
      ],
      "text/latex": [
       "\\begin{enumerate*}\n",
       "\\item 1\n",
       "\\item 1\n",
       "\\item 1\n",
       "\\item 1\n",
       "\\item 1\n",
       "\\item 1\n",
       "\\item 1\n",
       "\\item 1\n",
       "\\item 1\n",
       "\\item 1\n",
       "\\item 1\n",
       "\\item 1\n",
       "\\item 1\n",
       "\\item 1\n",
       "\\item 1\n",
       "\\item 3\n",
       "\\item 2\n",
       "\\item 2\n",
       "\\item 2\n",
       "\\item 2\n",
       "\\item 2\n",
       "\\item 2\n",
       "\\item 2\n",
       "\\item 3\n",
       "\\item 2\n",
       "\\item 2\n",
       "\\item 2\n",
       "\\item 2\n",
       "\\item 2\n",
       "\\item 2\n",
       "\\item 3\n",
       "\\item 2\n",
       "\\item 3\n",
       "\\item 3\n",
       "\\item 3\n",
       "\\item 3\n",
       "\\item 3\n",
       "\\end{enumerate*}\n"
      ],
      "text/markdown": [
       "1. 1\n",
       "2. 1\n",
       "3. 1\n",
       "4. 1\n",
       "5. 1\n",
       "6. 1\n",
       "7. 1\n",
       "8. 1\n",
       "9. 1\n",
       "10. 1\n",
       "11. 1\n",
       "12. 1\n",
       "13. 1\n",
       "14. 1\n",
       "15. 1\n",
       "16. 3\n",
       "17. 2\n",
       "18. 2\n",
       "19. 2\n",
       "20. 2\n",
       "21. 2\n",
       "22. 2\n",
       "23. 2\n",
       "24. 3\n",
       "25. 2\n",
       "26. 2\n",
       "27. 2\n",
       "28. 2\n",
       "29. 2\n",
       "30. 2\n",
       "31. 3\n",
       "32. 2\n",
       "33. 3\n",
       "34. 3\n",
       "35. 3\n",
       "36. 3\n",
       "37. 3\n",
       "\n",
       "\n"
      ],
      "text/plain": [
       " [1] 1 1 1 1 1 1 1 1 1 1 1 1 1 1 1 3 2 2 2 2 2 2 2 3 2 2 2 2 2 2 3 2 3 3 3 3 3"
      ]
     },
     "metadata": {},
     "output_type": "display_data"
    }
   ],
   "source": [
    "# Convertir les valeurs des espéces predite en numique pour pouvoir calculer le MAE\n",
    "yTePred = as.numeric(predictTest)\n",
    "yTePred"
   ]
  },
  {
   "cell_type": "code",
   "execution_count": 16,
   "id": "8ee3d0d1",
   "metadata": {},
   "outputs": [],
   "source": [
    "yTeReel = as.numeric(test.data$Species)"
   ]
  },
  {
   "cell_type": "code",
   "execution_count": 17,
   "id": "7762ddc4",
   "metadata": {},
   "outputs": [
    {
     "data": {
      "text/html": [
       "0.0810810810810811"
      ],
      "text/latex": [
       "0.0810810810810811"
      ],
      "text/markdown": [
       "0.0810810810810811"
      ],
      "text/plain": [
       "[1] 0.08108108"
      ]
     },
     "metadata": {},
     "output_type": "display_data"
    }
   ],
   "source": [
    "MAE(yTePred,yTeReel)"
   ]
  },
  {
   "cell_type": "code",
   "execution_count": 18,
   "id": "afcc2621",
   "metadata": {},
   "outputs": [],
   "source": [
    "yTrPred = as.numeric(predictTrain)"
   ]
  },
  {
   "cell_type": "code",
   "execution_count": 19,
   "id": "cb4bb307",
   "metadata": {},
   "outputs": [],
   "source": [
    "yTrReel = as.numeric(train.data$Species)"
   ]
  },
  {
   "cell_type": "code",
   "execution_count": 20,
   "id": "b336ed05",
   "metadata": {},
   "outputs": [
    {
     "data": {
      "text/html": [
       "0.0353982300884956"
      ],
      "text/latex": [
       "0.0353982300884956"
      ],
      "text/markdown": [
       "0.0353982300884956"
      ],
      "text/plain": [
       "[1] 0.03539823"
      ]
     },
     "metadata": {},
     "output_type": "display_data"
    }
   ],
   "source": [
    "MAE(yTrPred,yTrReel)"
   ]
  },
  {
   "cell_type": "markdown",
   "id": "71c178e3",
   "metadata": {},
   "source": [
    "# Q4 : What do you think about the quality of models?\n",
    "<p>La qualité du modèle entrainé est satisfaisante. Il y a quelques erreurs effectuées sur le jeu d'entrainement et le jeu de test mais la majorité des espèces sont correctement prédites.</p>\n",
    "<p>Pour le taux MAE on remarque que le taux d'erreur est plus important sur le jeu de test que celui d'entrainement ce qui traduit un léger sur apprentisage des données sur le jeu d'entrainement ce qui est normal vu que le modèle connaît déja les données d'entrainement.</p>"
   ]
  }
 ],
 "metadata": {
  "kernelspec": {
   "display_name": "R",
   "language": "R",
   "name": "ir"
  },
  "language_info": {
   "codemirror_mode": "r",
   "file_extension": ".r",
   "mimetype": "text/x-r-source",
   "name": "R",
   "pygments_lexer": "r",
   "version": "4.1.1"
  }
 },
 "nbformat": 4,
 "nbformat_minor": 5
}
